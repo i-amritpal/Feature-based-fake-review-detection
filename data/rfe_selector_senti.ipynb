{
 "cells": [
  {
   "cell_type": "code",
   "execution_count": null,
   "metadata": {},
   "outputs": [],
   "source": [
    "import pandas as pd\n",
    "from sklearn.ensemble import RandomForestRegressor\n",
    "from sklearn.model_selection import train_test_split\n",
    "from sklearn.feature_selection import RFE\n",
    "import os"
   ]
  },
  {
   "cell_type": "code",
   "execution_count": null,
   "metadata": {},
   "outputs": [],
   "source": [
    "# Set the working directory\n",
    "os.chdir('C:/Users/jesse/OneDrive/Documenten/Thesis/amazon_code/dataframes_done')\n",
    "# Read the DataFrame from a JSON file\n",
    "df = pd.read_json('senti_df.json', orient='records')"
   ]
  },
  {
   "cell_type": "code",
   "execution_count": null,
   "metadata": {},
   "outputs": [],
   "source": [
    "# SentiWordNet\n",
    "\n",
    "# Separate the features and the target\n",
    "X = df.drop(['Label'], axis=1)\n",
    "y = df['Label']\n",
    "train_size = 0.8\n",
    "X_train, X_test, y_train, y_test = train_test_split(X, y, train_size=train_size, random_state=42)\n",
    "\n",
    "# Define the range of feature selection\n",
    "n_features_range = range(10, 0, -1)\n",
    "\n",
    "for n_features_to_select in n_features_range:\n",
    "    regressor = RandomForestRegressor(n_estimators=100, max_depth=10)\n",
    "    rfe = RFE(regressor, n_features_to_select=n_features_to_select)\n",
    "    rfe.fit(X_train, y_train)\n",
    "\n",
    "    # Select the most important features\n",
    "    X_train_transformed = rfe.transform(X_train)\n",
    "    X_test_transformed = rfe.transform(X_test)\n",
    "\n",
    "    # Train the regressor on the transformed training data\n",
    "    regressor.fit(X_train_transformed, y_train)\n",
    "\n",
    "    # Make predictions on the transformed test data\n",
    "    predictions = regressor.predict(X_test_transformed)\n",
    "\n",
    "    selected_features = X.columns[rfe.support_]\n",
    "    print(f\"Number of Selected Features: {n_features_to_select}\")\n",
    "    print(selected_features)\n",
    "    print()"
   ]
  }
 ],
 "metadata": {
  "kernelspec": {
   "display_name": "base",
   "language": "python",
   "name": "python3"
  },
  "language_info": {
   "name": "python",
   "version": "3.9.7"
  },
  "orig_nbformat": 4
 },
 "nbformat": 4,
 "nbformat_minor": 2
}
