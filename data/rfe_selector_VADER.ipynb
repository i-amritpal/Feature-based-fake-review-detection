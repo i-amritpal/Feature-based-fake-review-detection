{
 "cells": [
  {
   "cell_type": "code",
   "execution_count": 1,
   "metadata": {},
   "outputs": [],
   "source": [
    "import pandas as pd\n",
    "from sklearn.ensemble import RandomForestRegressor\n",
    "from sklearn.model_selection import train_test_split\n",
    "from sklearn.feature_selection import RFE\n",
    "import os"
   ]
  },
  {
   "cell_type": "code",
   "execution_count": 2,
   "metadata": {},
   "outputs": [],
   "source": [
    "# Set the working directory\n",
    "os.chdir('C:/Users/jesse/OneDrive/Documenten/Thesis/amazon_code/dataframes_done')\n",
    "# Read the DataFrame from a JSON file\n",
    "df = pd.read_json('VADER_df.json', orient='records')"
   ]
  },
  {
   "cell_type": "code",
   "execution_count": 3,
   "metadata": {},
   "outputs": [
    {
     "name": "stdout",
     "output_type": "stream",
     "text": [
      "Number of Selected Features: 10\n",
      "Index(['Number_of_words', 'Number_of_punctuation', 'Average_word_length',\n",
      "       'Average_sentence_length', 'Redundancy_score', 'Readability_score',\n",
      "       'Lexical_diversity', 'sentiment_score', 'positive_score',\n",
      "       'neutral_score'],\n",
      "      dtype='object')\n",
      "\n",
      "Number of Selected Features: 9\n",
      "Index(['Number_of_words', 'Number_of_punctuation', 'Average_word_length',\n",
      "       'Average_sentence_length', 'Redundancy_score', 'Readability_score',\n",
      "       'Lexical_diversity', 'sentiment_score', 'neutral_score'],\n",
      "      dtype='object')\n",
      "\n",
      "Number of Selected Features: 8\n",
      "Index(['Number_of_words', 'Number_of_punctuation', 'Average_sentence_length',\n",
      "       'Redundancy_score', 'Readability_score', 'Lexical_diversity',\n",
      "       'sentiment_score', 'neutral_score'],\n",
      "      dtype='object')\n",
      "\n",
      "Number of Selected Features: 7\n",
      "Index(['Number_of_words', 'Number_of_punctuation', 'Average_sentence_length',\n",
      "       'Redundancy_score', 'Readability_score', 'sentiment_score',\n",
      "       'neutral_score'],\n",
      "      dtype='object')\n",
      "\n",
      "Number of Selected Features: 6\n",
      "Index(['Number_of_words', 'Number_of_punctuation', 'Redundancy_score',\n",
      "       'Readability_score', 'sentiment_score', 'neutral_score'],\n",
      "      dtype='object')\n",
      "\n",
      "Number of Selected Features: 5\n",
      "Index(['Number_of_words', 'Number_of_punctuation', 'Redundancy_score',\n",
      "       'Readability_score', 'sentiment_score'],\n",
      "      dtype='object')\n",
      "\n",
      "Number of Selected Features: 4\n",
      "Index(['Number_of_words', 'Number_of_punctuation', 'Redundancy_score',\n",
      "       'sentiment_score'],\n",
      "      dtype='object')\n",
      "\n",
      "Number of Selected Features: 3\n",
      "Index(['Number_of_punctuation', 'Redundancy_score', 'sentiment_score'], dtype='object')\n",
      "\n",
      "Number of Selected Features: 2\n",
      "Index(['Redundancy_score', 'sentiment_score'], dtype='object')\n",
      "\n",
      "Number of Selected Features: 1\n",
      "Index(['Redundancy_score'], dtype='object')\n",
      "\n"
     ]
    }
   ],
   "source": [
    "# VADER\n",
    "\n",
    "# Separate the features and the target\n",
    "X = df.drop(['Label'], axis=1)\n",
    "y = df['Label']\n",
    "train_size = 0.8\n",
    "X_train, X_test, y_train, y_test = train_test_split(X, y, train_size=train_size, random_state=42)\n",
    "\n",
    "# Define the range of feature selection\n",
    "n_features_range = range(10, 0, -1)\n",
    "\n",
    "for n_features_to_select in n_features_range:\n",
    "    regressor = RandomForestRegressor(n_estimators=100, max_depth=10)\n",
    "    rfe = RFE(regressor, n_features_to_select=n_features_to_select)\n",
    "    rfe.fit(X_train, y_train)\n",
    "\n",
    "    # Select the most important features\n",
    "    X_train_transformed = rfe.transform(X_train)\n",
    "    X_test_transformed = rfe.transform(X_test)\n",
    "\n",
    "    # Train the regressor on the transformed training data\n",
    "    regressor.fit(X_train_transformed, y_train)\n",
    "\n",
    "    # Make predictions on the transformed test data\n",
    "    predictions = regressor.predict(X_test_transformed)\n",
    "\n",
    "    selected_features = X.columns[rfe.support_]\n",
    "    print(f\"Number of Selected Features: {n_features_to_select}\")\n",
    "    print(selected_features)\n",
    "    print()"
   ]
  }
 ],
 "metadata": {
  "kernelspec": {
   "display_name": "base",
   "language": "python",
   "name": "python3"
  },
  "language_info": {
   "codemirror_mode": {
    "name": "ipython",
    "version": 3
   },
   "file_extension": ".py",
   "mimetype": "text/x-python",
   "name": "python",
   "nbconvert_exporter": "python",
   "pygments_lexer": "ipython3",
   "version": "3.9.7"
  },
  "orig_nbformat": 4
 },
 "nbformat": 4,
 "nbformat_minor": 2
}
